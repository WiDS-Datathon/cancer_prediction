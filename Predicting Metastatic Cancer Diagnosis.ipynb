{
 "cells": [
  {
   "cell_type": "markdown",
   "id": "2aad4d7a",
   "metadata": {},
   "source": [
    "## Predicting Metastatic Cancer Diagnosis"
   ]
  },
  {
   "cell_type": "markdown",
   "id": "19605802",
   "metadata": {},
   "source": [
    "## Project Overview"
   ]
  },
  {
   "cell_type": "markdown",
   "id": "738da246",
   "metadata": {},
   "source": [
    "Metastatic Triple-Negative Breast Cancer (TNBC) is considered the most aggressive TNBC and requires most urgent and timely treatment. TNBC is characterized by high risk of invasiveness, high metastasis, and poor prognosis. According to the National Institute of Health (2022), more than 1/3 of patients with TNBC experience recirrent or distant metastsis. Early diagnosis and treatment is very important for such difficult cancers. Differences in the wait time to get treatment is a key factor contributing to disparities in healthcare.\n",
    "\n",
    "The primary goal of this model is to detect the relationship between demographic characteristics and the likelihood of getting timely treatment. Additionally, the model aims to determine whether environmental hazards impact proper diagnosis and treatment. The developed model will predict the likelihood that a patient will be diagnosed with metastatic TNBC within 90 days of screening based on various demographic and environmental factors."
   ]
  },
  {
   "cell_type": "markdown",
   "id": "ada84925",
   "metadata": {},
   "source": [
    "## Libraries and Modules"
   ]
  },
  {
   "cell_type": "code",
   "execution_count": null,
   "id": "9a929b94",
   "metadata": {},
   "outputs": [],
   "source": [
    "import numpy as np\n",
    "import pandas as pd\n",
    "import matplotlib.pyplot as plt\n",
    "import seaborn as sns\n",
    "\n",
    "from catboost import CatBoostClassifier\n",
    "from sklearn.metrics import classification_report, accuracy_score\n",
    "\n",
    "import missingno as msn\n",
    "import re\n",
    "\n",
    "\n",
    "#To prevent truncation of output\n",
    "pd.set_option('display.max_columns', None)\n",
    "pd.set_option('display.max_rows', None)\n",
    "\n",
    "\n"
   ]
  },
  {
   "cell_type": "markdown",
   "id": "3f3e70ec",
   "metadata": {},
   "source": [
    "## Importing Datasets"
   ]
  },
  {
   "cell_type": "code",
   "execution_count": null,
   "id": "7fd58a06",
   "metadata": {},
   "outputs": [],
   "source": [
    "train_df = pd.read_csv('training.csv')\n",
    "\n",
    "test = pd.read_csv('test.csv')\n",
    "\n",
    "sample_submission = pd.read_csv('sample_submission.csv')"
   ]
  },
  {
   "cell_type": "code",
   "execution_count": null,
   "id": "14f561c1",
   "metadata": {
    "scrolled": true
   },
   "outputs": [],
   "source": [
    "test.info()"
   ]
  },
  {
   "cell_type": "code",
   "execution_count": null,
   "id": "15d1bb74",
   "metadata": {},
   "outputs": [],
   "source": [
    "sample_submission.head()"
   ]
  },
  {
   "cell_type": "code",
   "execution_count": null,
   "id": "5b9b0708",
   "metadata": {},
   "outputs": [],
   "source": [
    "train_df.head()"
   ]
  },
  {
   "cell_type": "code",
   "execution_count": null,
   "id": "d7755287",
   "metadata": {},
   "outputs": [],
   "source": [
    "train_df.info()"
   ]
  },
  {
   "cell_type": "markdown",
   "id": "3cb19163",
   "metadata": {},
   "source": [
    "## Data Pre-Processing"
   ]
  },
  {
   "cell_type": "markdown",
   "id": "9f36edc5",
   "metadata": {},
   "source": [
    "### Missing Values"
   ]
  },
  {
   "cell_type": "code",
   "execution_count": null,
   "id": "b3aec26c",
   "metadata": {
    "scrolled": true
   },
   "outputs": [],
   "source": [
    "\n",
    "msn.bar(train_df)"
   ]
  },
  {
   "cell_type": "markdown",
   "id": "43a3631a",
   "metadata": {},
   "source": [
    "The bar chart above shows some columns with significantly high numbers of missing data, with some having almost all data missing. Understanding percentages of the missing data will help to better determine best approaches to handle the columns with missing data."
   ]
  },
  {
   "cell_type": "code",
   "execution_count": null,
   "id": "1e96a166",
   "metadata": {},
   "outputs": [],
   "source": [
    "missing_percentage = (train_df.isnull().mean() * 100).round(2)\n",
    "\n",
    "# DataFrame to display the results\n",
    "missing_info = pd.DataFrame({\n",
    "    'Column': missing_percentage.index,\n",
    "    'Missing Percentage': missing_percentage.values\n",
    "})\n",
    "\n",
    "missing_info[missing_info['Missing Percentage'] > 1] #listing columns with more than 1% of data missing"
   ]
  },
  {
   "cell_type": "markdown",
   "id": "fcd44434",
   "metadata": {},
   "source": [
    "The percentage of missing values in the following columns are between 49.5% and 99.8%. These values are too high, creating a high risk of reducing the overall predictive power of the model; hence, we will drop these columns;\n",
    "\n",
    "- Patient race\n",
    "- bmi\n",
    "- metastatic first novel treatment\n",
    "- metastatic first novel treatment type"
   ]
  },
  {
   "cell_type": "code",
   "execution_count": null,
   "id": "03b1f92c",
   "metadata": {
    "scrolled": false
   },
   "outputs": [],
   "source": [
    "train_df.drop(columns = ['patient_race', \n",
    "                      'bmi', \n",
    "                      'metastatic_first_novel_treatment', \n",
    "                      'metastatic_first_novel_treatment_type'], inplace=True)"
   ]
  },
  {
   "cell_type": "markdown",
   "id": "5861ab8f",
   "metadata": {},
   "source": [
    "As for the 'payer_type' column, approximately 13% of the data is missing. The following cell uses the missingno module to visualize the degree of randomness, i.e. whether there is a notable pattern in how the data is missing."
   ]
  },
  {
   "cell_type": "code",
   "execution_count": null,
   "id": "84adeb8c",
   "metadata": {
    "scrolled": true
   },
   "outputs": [],
   "source": [
    "payer_type_subset = pd.DataFrame(train_df['payer_type'])\n",
    "msn.matrix(payer_type_subset)"
   ]
  },
  {
   "cell_type": "markdown",
   "id": "ada19b99",
   "metadata": {},
   "source": [
    "The missing values are spread randomly within the dataset. This data is likley missing completely at random (MCAR). When data is MCAR, the fact that the data is missing is independent of the observed or unobserved variables. In other words, no systematic differences exist between the patients with missing payer type and those with complete data. "
   ]
  },
  {
   "cell_type": "markdown",
   "id": "f18da288",
   "metadata": {},
   "source": [
    "### Imputing missing data\n",
    "Imputing the rest of the columns with mean if the data type is numerical, and the mode if the data type is categorical; this will be done after confirmation that the predictor variable has no null values."
   ]
  },
  {
   "cell_type": "code",
   "execution_count": null,
   "id": "5d91663e",
   "metadata": {},
   "outputs": [],
   "source": [
    "train_df['DiagPeriodL90D'].isna().sum()"
   ]
  },
  {
   "cell_type": "code",
   "execution_count": null,
   "id": "0f040b89",
   "metadata": {},
   "outputs": [],
   "source": [
    "for column in train_df:\n",
    "    \n",
    "    if train_df[column].isna().sum() > 0:\n",
    "        if train_df[column].dtype == \"float64\" or train_df[column].dtype == \"int64\":\n",
    "            train_df[column] = train_df[column].fillna(train_df[column].mean())\n",
    "        \n",
    "        else:  \n",
    "            train_df[column] = train_df[column].fillna(train_df[column].mode().iloc[0])"
   ]
  },
  {
   "cell_type": "code",
   "execution_count": null,
   "id": "76e97823",
   "metadata": {},
   "outputs": [],
   "source": [
    "#Confirming that there is no more missing data :)\n",
    "\n",
    "train_df.isna().sum()"
   ]
  },
  {
   "cell_type": "markdown",
   "id": "bd603cab",
   "metadata": {},
   "source": [
    "### Breast Cancer Diagnosis Description Cleaning\n",
    "\n",
    "We noted that the 'breast_cancer_diagnosis_desc' column includes important information that could possibly strengthen our model. In the following cells, we will clean the text in this column using the following steps;\n",
    "\n",
    "\n",
    "- Convert to Lowercase: The text is converted to lowercase to ensure uniformity.\n",
    "\n",
    "- Normalize Incomplete Words: Certain abbreviated words like 'malig', 'neoplm', and 'unsp' are replaced with their full forms ('malignant', 'neoplasm', and 'unspecified', respectively)."
   ]
  },
  {
   "cell_type": "code",
   "execution_count": null,
   "id": "b7dd9c99",
   "metadata": {},
   "outputs": [],
   "source": [
    "def clean_breast_cancer_diagnosis_desc(text):\n",
    "    \n",
    "    text = text.lower() #Make every character lowercase\n",
    "    \n",
    "    # Normalize Incomplete Words\n",
    "    text = re.sub(r'\\bmalig\\b', 'malignant', text)\n",
    "    text = re.sub(r'\\bneoplm\\b', 'neoplasm', text)\n",
    "    text = re.sub(r'\\bunsp\\b', 'unspecified', text)\n",
    "\n",
    "\n",
    "    return text\n",
    "\n",
    "\n",
    "train_df['breast_cancer_diagnosis_desc'] = train_df['breast_cancer_diagnosis_desc'].apply(clean_breast_cancer_diagnosis_desc)"
   ]
  },
  {
   "cell_type": "markdown",
   "id": "c71d7e5b",
   "metadata": {},
   "source": [
    "### Dropping extra columns\n",
    "\n",
    "All patients in the train dataset are female; hence, it is best to delete the column. A column with constant values does not provide any useful information for the model. Since the values are the same for all rows, the column does not contribute to distinguishing between different instances or making predictions. \n",
    "\n",
    "Additionally, constant columns can sometimes lead to overfitting, especially if the model mistakenly learns patterns from noise in the data. Removing such columns can help mitigate the risk of overfitting and improve the model's ability to generalize to unseen data. \n",
    "\n",
    "This decision has also been made to improve model complexity. Removing redundant columns simplifies the model and reduces its complexity. This can lead to faster training times, improved interpretability, and potentially better generalization performance on new data.\n",
    "\n",
    "Similarly, the patient_id column is a unique identifier for each patient; hence, it does not provide any information for the model. This column will also be dropped."
   ]
  },
  {
   "cell_type": "code",
   "execution_count": null,
   "id": "95d9118a",
   "metadata": {},
   "outputs": [],
   "source": [
    "train_df['patient_gender'].value_counts()"
   ]
  },
  {
   "cell_type": "code",
   "execution_count": null,
   "id": "a82dc024",
   "metadata": {},
   "outputs": [],
   "source": [
    "train_df.drop('patient_gender', axis=1, inplace=True)"
   ]
  },
  {
   "cell_type": "code",
   "execution_count": null,
   "id": "c6fb6182",
   "metadata": {},
   "outputs": [],
   "source": [
    "train_df.drop('patient_id', axis=1, inplace=True)"
   ]
  },
  {
   "cell_type": "code",
   "execution_count": null,
   "id": "392b5775",
   "metadata": {
    "scrolled": true
   },
   "outputs": [],
   "source": [
    "train_df.head()"
   ]
  },
  {
   "cell_type": "code",
   "execution_count": null,
   "id": "ef8e8d0e",
   "metadata": {},
   "outputs": [],
   "source": [
    "train_df.info()"
   ]
  },
  {
   "cell_type": "code",
   "execution_count": null,
   "id": "9f5a6c52",
   "metadata": {
    "scrolled": true
   },
   "outputs": [],
   "source": [
    "#Test data preprocessing\n",
    "\n",
    "#dropping columns with high levels of missing data and patient_gender for lack of dimension\n",
    "test.drop(columns = ['patient_race', \n",
    "                      'bmi', \n",
    "                      'metastatic_first_novel_treatment', \n",
    "                      'metastatic_first_novel_treatment_type', 'patient_gender'], inplace=True)"
   ]
  },
  {
   "cell_type": "code",
   "execution_count": null,
   "id": "4c1a8919",
   "metadata": {},
   "outputs": [],
   "source": [
    "test.drop('patient_id', axis=1, inplace=True)"
   ]
  },
  {
   "cell_type": "code",
   "execution_count": null,
   "id": "19f928f5",
   "metadata": {},
   "outputs": [],
   "source": [
    "test.info()"
   ]
  },
  {
   "cell_type": "markdown",
   "id": "bad52a71",
   "metadata": {},
   "source": [
    "## Model Training"
   ]
  },
  {
   "cell_type": "code",
   "execution_count": null,
   "id": "9d17e966",
   "metadata": {},
   "outputs": [],
   "source": [
    "x_train = train_df.drop(columns = ['DiagPeriodL90D'])\n",
    "y_train = train_df['DiagPeriodL90D']\n"
   ]
  },
  {
   "cell_type": "code",
   "execution_count": null,
   "id": "9587c918",
   "metadata": {},
   "outputs": [],
   "source": [
    "categorical_features = [\n",
    "    'payer_type',\n",
    "    'patient_state',\n",
    "    'breast_cancer_diagnosis_code',\n",
    "    'metastatic_cancer_diagnosis_code',\n",
    "    'Region',\n",
    "    'Division']\n",
    "model = CatBoostClassifier(\n",
    "    iterations=1000,\n",
    "    learning_rate=0.1,\n",
    "    depth=6,\n",
    "    loss_function='Logloss',\n",
    "    eval_metric='AUC',\n",
    "    cat_features = categorical_features,\n",
    "    text_features = ['breast_cancer_diagnosis_desc'],\n",
    "    random_seed=42,\n",
    "    verbose=200)"
   ]
  },
  {
   "cell_type": "code",
   "execution_count": null,
   "id": "de0ae6a2",
   "metadata": {},
   "outputs": [],
   "source": [
    "model.fit(x_train, y_train)"
   ]
  },
  {
   "cell_type": "code",
   "execution_count": null,
   "id": "f8dc15ab",
   "metadata": {},
   "outputs": [],
   "source": [
    "y_pred = model.predict(test)"
   ]
  },
  {
   "cell_type": "code",
   "execution_count": null,
   "id": "7c4457a1",
   "metadata": {},
   "outputs": [],
   "source": [
    "# Evaluate the model\n",
    "\n",
    "\n",
    "y_pred = model.predict(X_test)\n",
    "print(\"Accuracy:\", accuracy_score(y_test, y_pred))\n",
    "print(classification_report(y_test, y_pred))"
   ]
  }
 ],
 "metadata": {
  "kernelspec": {
   "display_name": "Python 3 (ipykernel)",
   "language": "python",
   "name": "python3"
  },
  "language_info": {
   "codemirror_mode": {
    "name": "ipython",
    "version": 3
   },
   "file_extension": ".py",
   "mimetype": "text/x-python",
   "name": "python",
   "nbconvert_exporter": "python",
   "pygments_lexer": "ipython3",
   "version": "3.9.13"
  }
 },
 "nbformat": 4,
 "nbformat_minor": 5
}
