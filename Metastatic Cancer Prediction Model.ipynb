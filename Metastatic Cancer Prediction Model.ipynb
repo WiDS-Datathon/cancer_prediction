{
 "cells": [
  {
   "cell_type": "markdown",
   "id": "fb0e3360",
   "metadata": {},
   "source": [
    "## Overview"
   ]
  },
  {
   "cell_type": "markdown",
   "id": "4960bb31",
   "metadata": {},
   "source": [
    "Metastatic TNBC is considered the most aggressive TNBC and requires most urgent and timely treatment. Unnecessary delays in diagnosis and subsequent treatment can have devastating effects in these difficult cancers. Differences in the wait time to get treatment is a good proxy for disparities in healthcare access."
   ]
  },
  {
   "cell_type": "markdown",
   "id": "2aad4d7a",
   "metadata": {},
   "source": [
    "## Our Objective"
   ]
  },
  {
   "cell_type": "markdown",
   "id": "64349d9a",
   "metadata": {},
   "source": [
    "We will be predicting if the patients received metastatic cancer diagnosis within 90 days of screening.\n",
    "\n",
    "The primary goal of building these models is to detect relationships between demographics of the patient with the likelihood of getting timely treatment. The secondary goal is to see if environmental hazards impact proper diagnosis and treatment."
   ]
  }
 ],
 "metadata": {
  "kernelspec": {
   "display_name": "Python 3 (ipykernel)",
   "language": "python",
   "name": "python3"
  },
  "language_info": {
   "codemirror_mode": {
    "name": "ipython",
    "version": 3
   },
   "file_extension": ".py",
   "mimetype": "text/x-python",
   "name": "python",
   "nbconvert_exporter": "python",
   "pygments_lexer": "ipython3",
   "version": "3.10.5"
  }
 },
 "nbformat": 4,
 "nbformat_minor": 5
}
